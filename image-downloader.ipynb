{
 "cells": [
  {
   "cell_type": "code",
   "execution_count": 1,
   "id": "6f7cef00",
   "metadata": {},
   "outputs": [],
   "source": [
    "import pandas as pd\n",
    "import os\n",
    "from tqdm import tqdm\n",
    "import urllib.request"
   ]
  },
  {
   "cell_type": "code",
   "execution_count": 2,
   "id": "6469b24b",
   "metadata": {},
   "outputs": [],
   "source": [
    "df = pd.read_csv('cuisines.csv')"
   ]
  },
  {
   "cell_type": "code",
   "execution_count": 3,
   "id": "3094cf17",
   "metadata": {},
   "outputs": [
    {
     "data": {
      "text/html": [
       "<div>\n",
       "<style scoped>\n",
       "    .dataframe tbody tr th:only-of-type {\n",
       "        vertical-align: middle;\n",
       "    }\n",
       "\n",
       "    .dataframe tbody tr th {\n",
       "        vertical-align: top;\n",
       "    }\n",
       "\n",
       "    .dataframe thead th {\n",
       "        text-align: right;\n",
       "    }\n",
       "</style>\n",
       "<table border=\"1\" class=\"dataframe\">\n",
       "  <thead>\n",
       "    <tr style=\"text-align: right;\">\n",
       "      <th></th>\n",
       "      <th>name</th>\n",
       "      <th>image_url</th>\n",
       "      <th>description</th>\n",
       "      <th>cuisine</th>\n",
       "      <th>course</th>\n",
       "      <th>diet</th>\n",
       "      <th>prep_time</th>\n",
       "      <th>ingredients</th>\n",
       "      <th>instructions</th>\n",
       "    </tr>\n",
       "  </thead>\n",
       "  <tbody>\n",
       "    <tr>\n",
       "      <th>0</th>\n",
       "      <td>Doddapatre Tambuli Recipe (Karpooravalli Thayi...</td>\n",
       "      <td>https://www.archanaskitchen.com/images/archana...</td>\n",
       "      <td>Doddapatre Tambuli Recipe is a popular healing...</td>\n",
       "      <td>Indian</td>\n",
       "      <td>Side Dish</td>\n",
       "      <td>Vegetarian</td>\n",
       "      <td>Total in 30 M</td>\n",
       "      <td>\\n\\n\\t\\t\\t\\t\\t\\t\\t \\t\\t4 cups Indian borage (D...</td>\n",
       "      <td>To begin making the Doddapatre Tambuli, first ...</td>\n",
       "    </tr>\n",
       "    <tr>\n",
       "      <th>1</th>\n",
       "      <td>Fish Tandoori Recipe</td>\n",
       "      <td>https://www.archanaskitchen.com/images/archana...</td>\n",
       "      <td>Have you ever tried out fish tandoori? Trust m...</td>\n",
       "      <td>North Indian Recipes</td>\n",
       "      <td>Appetizer</td>\n",
       "      <td>High Protein Non Vegetarian</td>\n",
       "      <td>Total in 80 M</td>\n",
       "      <td>\\n\\n\\t\\t\\t\\t\\t\\t\\t \\t\\t1 Fish\\t\\t\\t\\t\\t\\t\\t \\t...</td>\n",
       "      <td>To begin making the Fish Tandoori recipe, keep...</td>\n",
       "    </tr>\n",
       "    <tr>\n",
       "      <th>2</th>\n",
       "      <td>Arbi Shimla Mirch Sabzi Recipe – Colocasia Cap...</td>\n",
       "      <td>https://www.archanaskitchen.com/images/archana...</td>\n",
       "      <td>Arbi Shimla Mirch Sabzi Recipe is a variation ...</td>\n",
       "      <td>North Indian Recipes</td>\n",
       "      <td>Main Course</td>\n",
       "      <td>No Onion No Garlic (Sattvic)</td>\n",
       "      <td>Total in 55 M</td>\n",
       "      <td>\\n\\n\\t\\t\\t\\t\\t\\t\\t \\t\\t300 grams Colocasia roo...</td>\n",
       "      <td>To begin making the Arbi Shimla Mirch Sabzi Re...</td>\n",
       "    </tr>\n",
       "    <tr>\n",
       "      <th>3</th>\n",
       "      <td>Ambur Style Brinjal Curry Recipe</td>\n",
       "      <td>https://www.archanaskitchen.com/images/archana...</td>\n",
       "      <td>Brinjal Curry is prepared in different ways in...</td>\n",
       "      <td>Indian</td>\n",
       "      <td>Lunch</td>\n",
       "      <td>Vegetarian</td>\n",
       "      <td>Total in 20 M</td>\n",
       "      <td>\\n\\n\\t\\t\\t\\t\\t\\t\\t \\t\\t5 Brinjal (Baingan / Eg...</td>\n",
       "      <td>To begin making the Ambur Style Brinjal Curry ...</td>\n",
       "    </tr>\n",
       "    <tr>\n",
       "      <th>4</th>\n",
       "      <td>Mavinakayi Menasinakai Curry Recipe  - Raw Man...</td>\n",
       "      <td>https://www.archanaskitchen.com/images/archana...</td>\n",
       "      <td>Mangalorean Mavinakayi Menasinakai Curry Recip...</td>\n",
       "      <td>Mangalorean</td>\n",
       "      <td>Side Dish</td>\n",
       "      <td>Vegetarian</td>\n",
       "      <td>Total in 35 M</td>\n",
       "      <td>\\n\\n\\t\\t\\t\\t\\t\\t\\t \\t\\t1 cup Mango (Raw)\\t\\t\\t...</td>\n",
       "      <td>To begin making Mangalorean Mavinakayi Menasin...</td>\n",
       "    </tr>\n",
       "  </tbody>\n",
       "</table>\n",
       "</div>"
      ],
      "text/plain": [
       "                                                name  \\\n",
       "0  Doddapatre Tambuli Recipe (Karpooravalli Thayi...   \n",
       "1                               Fish Tandoori Recipe   \n",
       "2  Arbi Shimla Mirch Sabzi Recipe – Colocasia Cap...   \n",
       "3                   Ambur Style Brinjal Curry Recipe   \n",
       "4  Mavinakayi Menasinakai Curry Recipe  - Raw Man...   \n",
       "\n",
       "                                           image_url  \\\n",
       "0  https://www.archanaskitchen.com/images/archana...   \n",
       "1  https://www.archanaskitchen.com/images/archana...   \n",
       "2  https://www.archanaskitchen.com/images/archana...   \n",
       "3  https://www.archanaskitchen.com/images/archana...   \n",
       "4  https://www.archanaskitchen.com/images/archana...   \n",
       "\n",
       "                                         description               cuisine  \\\n",
       "0  Doddapatre Tambuli Recipe is a popular healing...                Indian   \n",
       "1  Have you ever tried out fish tandoori? Trust m...  North Indian Recipes   \n",
       "2  Arbi Shimla Mirch Sabzi Recipe is a variation ...  North Indian Recipes   \n",
       "3  Brinjal Curry is prepared in different ways in...                Indian   \n",
       "4  Mangalorean Mavinakayi Menasinakai Curry Recip...           Mangalorean   \n",
       "\n",
       "        course                          diet      prep_time  \\\n",
       "0    Side Dish                    Vegetarian  Total in 30 M   \n",
       "1    Appetizer   High Protein Non Vegetarian  Total in 80 M   \n",
       "2  Main Course  No Onion No Garlic (Sattvic)  Total in 55 M   \n",
       "3        Lunch                    Vegetarian  Total in 20 M   \n",
       "4    Side Dish                    Vegetarian  Total in 35 M   \n",
       "\n",
       "                                         ingredients  \\\n",
       "0  \\n\\n\\t\\t\\t\\t\\t\\t\\t \\t\\t4 cups Indian borage (D...   \n",
       "1  \\n\\n\\t\\t\\t\\t\\t\\t\\t \\t\\t1 Fish\\t\\t\\t\\t\\t\\t\\t \\t...   \n",
       "2  \\n\\n\\t\\t\\t\\t\\t\\t\\t \\t\\t300 grams Colocasia roo...   \n",
       "3  \\n\\n\\t\\t\\t\\t\\t\\t\\t \\t\\t5 Brinjal (Baingan / Eg...   \n",
       "4  \\n\\n\\t\\t\\t\\t\\t\\t\\t \\t\\t1 cup Mango (Raw)\\t\\t\\t...   \n",
       "\n",
       "                                        instructions  \n",
       "0  To begin making the Doddapatre Tambuli, first ...  \n",
       "1  To begin making the Fish Tandoori recipe, keep...  \n",
       "2  To begin making the Arbi Shimla Mirch Sabzi Re...  \n",
       "3  To begin making the Ambur Style Brinjal Curry ...  \n",
       "4  To begin making Mangalorean Mavinakayi Menasin...  "
      ]
     },
     "execution_count": 3,
     "metadata": {},
     "output_type": "execute_result"
    }
   ],
   "source": [
    "df.head()"
   ]
  },
  {
   "cell_type": "code",
   "execution_count": 7,
   "id": "8650f856",
   "metadata": {},
   "outputs": [
    {
     "name": "stderr",
     "output_type": "stream",
     "text": [
      "100%|██████████████████████████████████████████████████████████████████████████████| 4467/4467 [11:39<00:00,  6.39it/s]\n"
     ]
    }
   ],
   "source": [
    "message = []\n",
    "counter = 1\n",
    "for name in tqdm(df['image_url']):\n",
    "    \n",
    "    try:\n",
    "        urllib.request.urlretrieve(name, os.path.join(\"data\",str(counter) + \".\" + name.split('/')[-1]))\n",
    "        message.append(1)\n",
    "    except:\n",
    "        message.append(0)\n",
    "    counter = counter + 1"
   ]
  },
  {
   "cell_type": "code",
   "execution_count": 10,
   "id": "6572695c",
   "metadata": {},
   "outputs": [],
   "source": [
    "df['image_available'] = message"
   ]
  },
  {
   "cell_type": "code",
   "execution_count": 11,
   "id": "293ba66a",
   "metadata": {},
   "outputs": [
    {
     "data": {
      "text/html": [
       "<div>\n",
       "<style scoped>\n",
       "    .dataframe tbody tr th:only-of-type {\n",
       "        vertical-align: middle;\n",
       "    }\n",
       "\n",
       "    .dataframe tbody tr th {\n",
       "        vertical-align: top;\n",
       "    }\n",
       "\n",
       "    .dataframe thead th {\n",
       "        text-align: right;\n",
       "    }\n",
       "</style>\n",
       "<table border=\"1\" class=\"dataframe\">\n",
       "  <thead>\n",
       "    <tr style=\"text-align: right;\">\n",
       "      <th></th>\n",
       "      <th>name</th>\n",
       "      <th>image_url</th>\n",
       "      <th>description</th>\n",
       "      <th>cuisine</th>\n",
       "      <th>course</th>\n",
       "      <th>diet</th>\n",
       "      <th>prep_time</th>\n",
       "      <th>ingredients</th>\n",
       "      <th>instructions</th>\n",
       "      <th>image_available</th>\n",
       "    </tr>\n",
       "  </thead>\n",
       "  <tbody>\n",
       "    <tr>\n",
       "      <th>357</th>\n",
       "      <td>Odisha Style Dal Tadka Recipe</td>\n",
       "      <td>https://www.archanaskitchen.com/images/archana...</td>\n",
       "      <td>The Odisha Style Dal Tadka Recipe is super sim...</td>\n",
       "      <td>Oriya Recipes</td>\n",
       "      <td>Lunch</td>\n",
       "      <td>High Protein Vegetarian</td>\n",
       "      <td>Total in 525 M</td>\n",
       "      <td>\\n\\n\\t\\t\\t\\t\\t\\t\\t \\t\\t1/2 cup White Urad Dal ...</td>\n",
       "      <td>To begin making the Odisha Style Dal Tadka Rec...</td>\n",
       "      <td>0</td>\n",
       "    </tr>\n",
       "  </tbody>\n",
       "</table>\n",
       "</div>"
      ],
      "text/plain": [
       "                              name  \\\n",
       "357  Odisha Style Dal Tadka Recipe   \n",
       "\n",
       "                                             image_url  \\\n",
       "357  https://www.archanaskitchen.com/images/archana...   \n",
       "\n",
       "                                           description        cuisine course  \\\n",
       "357  The Odisha Style Dal Tadka Recipe is super sim...  Oriya Recipes  Lunch   \n",
       "\n",
       "                        diet       prep_time  \\\n",
       "357  High Protein Vegetarian  Total in 525 M   \n",
       "\n",
       "                                           ingredients  \\\n",
       "357  \\n\\n\\t\\t\\t\\t\\t\\t\\t \\t\\t1/2 cup White Urad Dal ...   \n",
       "\n",
       "                                          instructions  image_available  \n",
       "357  To begin making the Odisha Style Dal Tadka Rec...                0  "
      ]
     },
     "execution_count": 11,
     "metadata": {},
     "output_type": "execute_result"
    }
   ],
   "source": [
    "df[df['image_available'] == 0]"
   ]
  },
  {
   "cell_type": "code",
   "execution_count": 16,
   "id": "153893a5",
   "metadata": {},
   "outputs": [],
   "source": [
    "df.drop(357,axis=0,inplace=True)"
   ]
  },
  {
   "cell_type": "code",
   "execution_count": 19,
   "id": "88f007d7",
   "metadata": {},
   "outputs": [],
   "source": [
    "df.to_csv('cuisine_updated.csv',index=False)"
   ]
  },
  {
   "cell_type": "code",
   "execution_count": null,
   "id": "06d60b59",
   "metadata": {},
   "outputs": [],
   "source": []
  }
 ],
 "metadata": {
  "kernelspec": {
   "display_name": "Python 3",
   "language": "python",
   "name": "python3"
  },
  "language_info": {
   "codemirror_mode": {
    "name": "ipython",
    "version": 3
   },
   "file_extension": ".py",
   "mimetype": "text/x-python",
   "name": "python",
   "nbconvert_exporter": "python",
   "pygments_lexer": "ipython3",
   "version": "3.8.8"
  }
 },
 "nbformat": 4,
 "nbformat_minor": 5
}
